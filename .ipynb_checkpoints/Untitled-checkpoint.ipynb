{
 "cells": [
  {
   "cell_type": "markdown",
   "id": "5eef8341",
   "metadata": {},
   "source": [
    "# ML Engineer (Lifesciences) Tech Assessment\n",
    "\n",
    "# Predicting Kinase Inhibitor Activity with the KinDEL Dataset\n",
    "\n",
    "## Introduction\n",
    "\n",
    "... drug discovery, where the goal is to find and develop new therapeutic drugs... At Loka, we help clients speed up this process by optimizing their AI pipelines and applying state-of-the-art models, such as large language models. \n",
    "\n",
    "This project specifically focuses on using DNA-encoded libraries, a technology we have explored in collaboration with a biotech client.\n",
    "\n",
    "---\n",
    "\n",
    "## Dataset\n",
    "\n",
    "The KinDEL dataset contains DNA-encoded library (DEL) data for two kinase targets: DDR1 and MAPK14. The data is available on [GitHub](https://github.com/insitro/kindel), along with a set of benchmark models and evaluation scripts. The test set features data from real binding experiments, where binding affinities (Kd values) were measured. The dataset also includes predefined splits using two methods: a random split and a disynthon (building block) split that groups compounds based on shared building blocks. For a more detailed description of the dataset, please refer to the accompanying [paper](https://arxiv.org/pdf/2410.08938).\n",
    "\n",
    "\n",
    "## Challenge\n",
    "\n",
    "The objective of this challenge is to build a machine learning model to predict enrichment scores of DEL compounds and evaluate how well it generalizes to real binding affinities (Kd). Some benchmark models are already provided in the GitHub repository, so we encourage candidates to explore novel architectures and methods for representing the molecules.  Feel free to follow the evaluation strategy outlined in the paper, or come up with a new one.\n",
    "\n",
    "Beyond building a proof of concept, you’re also requested to design a production-ready system architecture. We prefer AWS-native designs but you may use the cloud you know best. This architecture doesn’t need to be implemented, but it should be documented clearly (diagram + rationale) as if it would be handed off to an engineering team."
   ]
  }
 ],
 "metadata": {
  "kernelspec": {
   "display_name": "Python 3",
   "language": "python",
   "name": "python3"
  }
 },
 "nbformat": 4,
 "nbformat_minor": 5
}
